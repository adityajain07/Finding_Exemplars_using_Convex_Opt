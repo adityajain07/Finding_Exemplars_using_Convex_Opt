{
 "cells": [
  {
   "cell_type": "code",
   "execution_count": 19,
   "metadata": {},
   "outputs": [],
   "source": [
    "\"\"\"\n",
    "Authors      : Aditya Jain and Safwan Jamal\n",
    "Date started : November 6, 2022\n",
    "About        : Convex Optimization project; saving dissimilarity between images\n",
    "\"\"\"\n",
    "\n",
    "import os\n",
    "import glob\n",
    "from PIL import Image\n",
    "import matplotlib.pyplot as plt\n",
    "import numpy as np\n",
    "import pickle"
   ]
  },
  {
   "cell_type": "markdown",
   "metadata": {},
   "source": [
    "#### CIFAR Data"
   ]
  },
  {
   "cell_type": "code",
   "execution_count": null,
   "metadata": {},
   "outputs": [],
   "source": [
    "cifar_data_dir    = './cifar-10-images/train/'\n",
    "diss_data_dir     = './dissimilarity_data/'\n",
    "no_imgs_per_class = len(glob.glob('./cifar-10-images/train/airplane/*.jpg'))\n",
    "no_imgs_per_class = 10\n",
    "\n",
    "for category in os.listdir(cifar_data_dir):    \n",
    "    print(f'Calculating dissimilarity for {category} ...')\n",
    "    # dissimilarity matrix and images used\n",
    "    diss_matrix = np.zeros((no_imgs_per_class, no_imgs_per_class))\n",
    "    image_list  = []\n",
    "    \n",
    "    for i in range(no_imgs_per_class):\n",
    "        img_name      = str(i).zfill(4) + '.jpg'\n",
    "        img_path      = cifar_data_dir + category + '/' + img_name\n",
    "        img           = Image.open(img_path)\n",
    "        img_grayscale = img.convert('L')\n",
    "        img_array     = np.asarray(img_grayscale)\n",
    "        img_i         = img_array.reshape((1, -1))        \n",
    "        image_list.append(img_name)\n",
    "        \n",
    "        for j in range(i, no_imgs_per_class):\n",
    "            img_name      = str(j).zfill(4) + '.jpg'\n",
    "            img_path      = cifar_data_dir + category + '/' + img_name\n",
    "            img           = Image.open(img_path)\n",
    "            img_grayscale = img.convert('L')\n",
    "            img_array     = np.asarray(img_grayscale)\n",
    "            img_j         = img_array.reshape((1, -1))\n",
    "            \n",
    "            # update the dissimilarity matrix\n",
    "            euclidean_dist    = np.linalg.norm(img_i-img_j)\n",
    "            diss_matrix[i, j] = euclidean_dist\n",
    "            diss_matrix[j, i] = euclidean_dist\n",
    "     \n",
    "    diss_matrix = diss_matrix/np.max(diss_matrix)\n",
    "    print(f'Shape of dissimilarity matrix is {diss_matrix.shape}')\n",
    "    \n",
    "    with open(diss_data_dir+category+'_dissimilarity_matrix_'+\n",
    "              str(no_imgs_per_class)+'x'+str(no_imgs_per_class)\n",
    "              +'.pickle', 'wb') as f:\n",
    "        pickle.dump(diss_matrix, f)\n",
    "        \n",
    "    with open(diss_data_dir+category+'_image_list_'+\n",
    "              str(no_imgs_per_class)+'x'+str(no_imgs_per_class)\n",
    "              +'.pickle', 'wb') as f:\n",
    "        pickle.dump(image_list, f)\n",
    "        \n",
    "print(f'Done with matrix calculation!')"
   ]
  },
  {
   "cell_type": "markdown",
   "metadata": {},
   "source": [
    "#### Oxford-IIIT Pet Data"
   ]
  },
  {
   "cell_type": "code",
   "execution_count": 20,
   "metadata": {},
   "outputs": [
    {
     "name": "stdout",
     "output_type": "stream",
     "text": [
      "Calculating dissimilarity for beagle ...\n",
      "Shape of dissimilarity matrix is (10, 10)\n",
      "Done with matrix calculation!\n"
     ]
    }
   ],
   "source": [
    "pet_data_dir      = './oxford-iiit-pet/images/'\n",
    "diss_data_dir     = './dissimilarity_data_pet/'\n",
    "no_imgs_per_class = 10\n",
    "category_list     = ['beagle']\n",
    "resize_dim        = (200, 200)\n",
    "\n",
    "for category in category_list:    \n",
    "    print(f'Calculating dissimilarity for {category} ...')\n",
    "    # dissimilarity matrix and images used\n",
    "    diss_matrix = np.zeros((no_imgs_per_class, no_imgs_per_class))\n",
    "    image_names = os.listdir(pet_data_dir + category)[:no_imgs_per_class]\n",
    "    image_list  = []\n",
    "    \n",
    "    for i in range(no_imgs_per_class):\n",
    "        img_name      = image_names[i]\n",
    "        img_path      = pet_data_dir + category + '/' + img_name\n",
    "        img           = Image.open(img_path)\n",
    "        img_grayscale = img.convert('L').resize(resize_dim)\n",
    "        img_array     = np.asarray(img_grayscale)\n",
    "        img_i         = img_array.reshape((1, -1))        \n",
    "        image_list.append(img_name)\n",
    "        \n",
    "        for j in range(i, no_imgs_per_class):\n",
    "            img_name      = image_names[j]\n",
    "            img_path      = pet_data_dir + category + '/' + img_name\n",
    "            img           = Image.open(img_path)\n",
    "            img_grayscale = img.convert('L').resize(resize_dim)\n",
    "            img_array     = np.asarray(img_grayscale)\n",
    "            img_j         = img_array.reshape((1, -1))\n",
    "            \n",
    "            # update the dissimilarity matrix\n",
    "            euclidean_dist    = np.linalg.norm(img_i-img_j)\n",
    "            diss_matrix[i, j] = euclidean_dist\n",
    "            diss_matrix[j, i] = euclidean_dist\n",
    "     \n",
    "    diss_matrix = diss_matrix/np.max(diss_matrix)\n",
    "    print(f'Shape of dissimilarity matrix is {diss_matrix.shape}')\n",
    "    \n",
    "    with open(diss_data_dir+category+'_dissimilarity_matrix_'+\n",
    "              str(no_imgs_per_class)+'x'+str(no_imgs_per_class)\n",
    "              +'.pickle', 'wb') as f:\n",
    "        pickle.dump(diss_matrix, f)\n",
    "        \n",
    "    with open(diss_data_dir+category+'_image_list_'+\n",
    "              str(no_imgs_per_class)+'x'+str(no_imgs_per_class)\n",
    "              +'.pickle', 'wb') as f:\n",
    "        pickle.dump(image_list, f)\n",
    "        \n",
    "print(f'Done with matrix calculation!')"
   ]
  },
  {
   "cell_type": "code",
   "execution_count": null,
   "metadata": {},
   "outputs": [],
   "source": []
  }
 ],
 "metadata": {
  "kernelspec": {
   "display_name": "Python 3 (milamoth_ai)",
   "language": "python",
   "name": "milamoth_ai"
  },
  "language_info": {
   "codemirror_mode": {
    "name": "ipython",
    "version": 3
   },
   "file_extension": ".py",
   "mimetype": "text/x-python",
   "name": "python",
   "nbconvert_exporter": "python",
   "pygments_lexer": "ipython3",
   "version": "3.9.13"
  }
 },
 "nbformat": 4,
 "nbformat_minor": 4
}
