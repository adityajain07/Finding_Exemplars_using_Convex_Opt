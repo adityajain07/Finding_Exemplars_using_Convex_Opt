{
 "cells": [
  {
   "cell_type": "code",
   "execution_count": 155,
   "metadata": {},
   "outputs": [],
   "source": [
    "\"\"\"\n",
    "Authors      : Aditya Jain and Safwan Jamal\n",
    "Date started : November 8, 2022\n",
    "About        : Convex Optimization project; code for solving convex opt problem\n",
    "\"\"\"\n",
    "\n",
    "import os\n",
    "import glob\n",
    "import numpy as np\n",
    "import pickle\n",
    "import cvxpy as cp\n",
    "import seaborn as sns"
   ]
  },
  {
   "cell_type": "markdown",
   "metadata": {},
   "source": [
    "#### Reading dissimilarity data data"
   ]
  },
  {
   "cell_type": "code",
   "execution_count": 156,
   "metadata": {},
   "outputs": [],
   "source": [
    "filename = open('./dissimilarity_data_cifar/automobile_dissimilarity_matrix_10x10.pickle', 'rb')\n",
    "D        = pickle.load(filename)\n",
    "n        = len(D)"
   ]
  },
  {
   "cell_type": "markdown",
   "metadata": {},
   "source": [
    "#### Optimization program"
   ]
  },
  {
   "cell_type": "code",
   "execution_count": 157,
   "metadata": {},
   "outputs": [
    {
     "name": "stdout",
     "output_type": "stream",
     "text": [
      "Maximum lambda is 158.4159549932074\n"
     ]
    }
   ],
   "source": [
    "# print(D)\n",
    "ltype = 'l' # or it will be l-infinity\n",
    "lambda_max = 0\n",
    "for i in range(n):\n",
    "    for j in range(i+1, n):\n",
    "        if ltype=='l2':\n",
    "            lambda_cur = (np.sqrt(n)/2 ) * ((np.linalg.norm(D[i, :] - D[j, :])**2)/np.sum((D[i, :] - D[j, :])))  # l2-norm\n",
    "        else:\n",
    "            lambda_cur = np.linalg.norm(D[i, :] - D[j, :], ord=1)/2  #l-infinity norm\n",
    "\n",
    "        if lambda_cur>lambda_max:\n",
    "            lambda_max = lambda_cur\n",
    "\n",
    "print(f'Maximum lambda is {lambda_max}')"
   ]
  },
  {
   "cell_type": "code",
   "execution_count": 158,
   "metadata": {},
   "outputs": [
    {
     "data": {
      "text/plain": [
       "508.5124429713654"
      ]
     },
     "execution_count": 158,
     "metadata": {},
     "output_type": "execute_result"
    }
   ],
   "source": [
    "# variable definitions\n",
    "Z        = cp.Variable((n, n))\n",
    "lambda_t = 1*lambda_max\n",
    "\n",
    "\n",
    "# objective function\n",
    "cost_encoding = cp.trace(D.T@Z)        # cost of encoding all data points using representatives\n",
    "cost_no_repr  = 0                      # cost associated with no. of representatives\n",
    "for i in range(n):\n",
    "    if ltype=='l2':\n",
    "        cost_no_repr += cp.norm2(Z[i, :])    # l2 norm\n",
    "    else:\n",
    "        cost_no_repr += cp.max(Z[i, :])  # l-infinity norm\n",
    "cost_no_repr = lambda_t*cost_no_repr\n",
    "\n",
    "# objective function\n",
    "objective    = cp.Minimize(cost_encoding + cost_no_repr)\n",
    "\n",
    "# constraints\n",
    "# probab. should be >=0\n",
    "# probabilities should sum to one for every column\n",
    "constraints = [Z>=0, np.ones((1,n))@Z == np.ones((1,n))]\n",
    "\n",
    "# optimization program\n",
    "prob = cp.Problem(objective, constraints)\n",
    "prob.solve()"
   ]
  },
  {
   "cell_type": "code",
   "execution_count": 159,
   "metadata": {},
   "outputs": [
    {
     "data": {
      "text/plain": [
       "<AxesSubplot: >"
      ]
     },
     "execution_count": 159,
     "metadata": {},
     "output_type": "execute_result"
    },
    {
     "data": {
      "image/png": "[encoded data removed]",
      "text/plain": [
       "<Figure size 640x480 with 2 Axes>"
      ]
     },
     "metadata": {},
     "output_type": "display_data"
    }
   ],
   "source": [
    "sns.heatmap(Z.value)"
   ]
  },
  {
   "cell_type": "code",
   "execution_count": null,
   "metadata": {},
   "outputs": [],
   "source": []
  }
 ],
 "metadata": {
  "kernelspec": {
   "display_name": "Python 3 (milamoth_ai)",
   "language": "python",
   "name": "milamoth_ai"
  },
  "language_info": {
   "codemirror_mode": {
    "name": "ipython",
    "version": 3
   },
   "file_extension": ".py",
   "mimetype": "text/x-python",
   "name": "python",
   "nbconvert_exporter": "python",
   "pygments_lexer": "ipython3",
   "version": "3.9.13"
  }
 },
 "nbformat": 4,
 "nbformat_minor": 4
}
