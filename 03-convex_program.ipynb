{
 "cells": [
  {
   "cell_type": "code",
   "execution_count": 110,
   "metadata": {},
   "outputs": [],
   "source": [
    "\"\"\"\n",
    "Authors      : Aditya Jain and Safwan Jamal\n",
    "Date started : November 8, 2022\n",
    "About        : Convex Optimization project; code for solving convex opt problem\n",
    "\"\"\"\n",
    "\n",
    "import os\n",
    "import glob\n",
    "import numpy as np\n",
    "import pickle\n",
    "import cvxpy as cp\n",
    "import seaborn as sns"
   ]
  },
  {
   "cell_type": "markdown",
   "metadata": {},
   "source": [
    "#### Reading dissimilarity data data"
   ]
  },
  {
   "cell_type": "code",
   "execution_count": 111,
   "metadata": {},
   "outputs": [],
   "source": [
    "filename = open('./dissimilarity_data/automobile_dissimilarity_matrix_4x4.pickle', 'rb')\n",
    "D        = pickle.load(filename)\n",
    "n        = len(D)"
   ]
  },
  {
   "cell_type": "markdown",
   "metadata": {},
   "source": [
    "#### Optimization program"
   ]
  },
  {
   "cell_type": "code",
   "execution_count": 112,
   "metadata": {},
   "outputs": [
    {
     "data": {
      "text/plain": [
       "15.842844417505518"
      ]
     },
     "execution_count": 112,
     "metadata": {},
     "output_type": "execute_result"
    }
   ],
   "source": [
    "# variable definitions\n",
    "Z        = cp.Variable((n, n), symmetric=True)\n",
    "lambda_t = 6.55\n",
    "\n",
    "\n",
    "# objective function\n",
    "cost_encoding = cp.trace(D.T@Z)        # cost of encoding all data points using representatives\n",
    "cost_no_repr  = 0                      # cost associated with no. of representatives\n",
    "for i in range(n):\n",
    "    cost_no_repr += cp.norm2(Z[i, :])\n",
    "cost_no_repr = lambda_t*cost_no_repr\n",
    "objective    = cp.Minimize(cost_encoding + cost_no_repr)\n",
    "\n",
    "# constraints\n",
    "# probab. should be >=0\n",
    "# probabilities should sum to one for every column\n",
    "constraints = [Z>=0, np.ones((1,n))@Z == np.ones((1,n))]\n",
    "\n",
    "# optimization program\n",
    "prob = cp.Problem(objective, constraints)\n",
    "prob.solve()"
   ]
  },
  {
   "cell_type": "code",
   "execution_count": 113,
   "metadata": {},
   "outputs": [
    {
     "data": {
      "text/plain": [
       "<AxesSubplot: >"
      ]
     },
     "execution_count": 113,
     "metadata": {},
     "output_type": "execute_result"
    },
    {
     "data": {
      "image/png": "[encoded data removed]",
      "text/plain": [
       "<Figure size 640x480 with 2 Axes>"
      ]
     },
     "metadata": {},
     "output_type": "display_data"
    }
   ],
   "source": [
    "sns.heatmap(Z.value)"
   ]
  },
  {
   "cell_type": "code",
   "execution_count": 114,
   "metadata": {},
   "outputs": [
    {
     "data": {
      "text/plain": [
       "array([[0.30350322, 0.23080932, 0.23463273, 0.23105473],\n",
       "       [0.23080932, 0.30437878, 0.23475462, 0.23005727],\n",
       "       [0.23463273, 0.23475462, 0.30146068, 0.22915196],\n",
       "       [0.23105473, 0.23005727, 0.22915196, 0.30973603]])"
      ]
     },
     "execution_count": 114,
     "metadata": {},
     "output_type": "execute_result"
    }
   ],
   "source": [
    "Z.value"
   ]
  },
  {
   "cell_type": "code",
   "execution_count": null,
   "metadata": {},
   "outputs": [],
   "source": []
  }
 ],
 "metadata": {
  "kernelspec": {
   "display_name": "Python 3 (milamoth_ai)",
   "language": "python",
   "name": "milamoth_ai"
  },
  "language_info": {
   "codemirror_mode": {
    "name": "ipython",
    "version": 3
   },
   "file_extension": ".py",
   "mimetype": "text/x-python",
   "name": "python",
   "nbconvert_exporter": "python",
   "pygments_lexer": "ipython3",
   "version": "3.9.13"
  }
 },
 "nbformat": 4,
 "nbformat_minor": 4
}
