{
 "cells": [
  {
   "cell_type": "code",
   "execution_count": 21,
   "metadata": {},
   "outputs": [],
   "source": [
    "\"\"\"\n",
    "Authors      : Aditya Jain and Safwan Jamal\n",
    "Date started : November 18, 2022\n",
    "About        : Convex Optimization project; move data in correct folders for pet dataset\n",
    "\"\"\"\n",
    "\n",
    "import shutil\n",
    "import os"
   ]
  },
  {
   "cell_type": "code",
   "execution_count": 43,
   "metadata": {},
   "outputs": [],
   "source": [
    "source_dir       = os.getcwd() + '/oxford-iiit-pet/images/'\n",
    "target_dir_train = './oxford-iiit-pet/train/'\n",
    "target_dir_test  = './oxford-iiit-pet/test/'\n",
    "category         = 'pug'"
   ]
  },
  {
   "cell_type": "markdown",
   "metadata": {},
   "source": [
    "#### Move train data"
   ]
  },
  {
   "cell_type": "code",
   "execution_count": 44,
   "metadata": {},
   "outputs": [
    {
     "name": "stdout",
     "output_type": "stream",
     "text": [
      "Didnt find the file /home/mila/a/aditya.jain/others/ece1505_project/oxford-iiit-pet/images/pug/pug_83.jpg\n",
      "Didnt find the file /home/mila/a/aditya.jain/others/ece1505_project/oxford-iiit-pet/images/pug/pug_113.jpg\n",
      "Didnt find the file /home/mila/a/aditya.jain/others/ece1505_project/oxford-iiit-pet/images/pug/pug_152.jpg\n",
      "Copied 150 files\n"
     ]
    }
   ],
   "source": [
    "count = 0\n",
    "for i in range(1000):\n",
    "    image_name  = category + '_' + str(i+1) + '.jpg'\n",
    "    source_file = source_dir + category + '/' + image_name\n",
    "    target_file = target_dir_train + category + '/' + image_name\n",
    "    try:\n",
    "        shutil.copy(source_file, target_file)\n",
    "        count += 1\n",
    "    except:\n",
    "        print(f'Didnt find the file {source_file}')\n",
    "        \n",
    "    if count==150:\n",
    "        print(f'Copied {count} files')\n",
    "        break"
   ]
  },
  {
   "cell_type": "markdown",
   "metadata": {},
   "source": [
    "#### Move test data"
   ]
  },
  {
   "cell_type": "code",
   "execution_count": 45,
   "metadata": {},
   "outputs": [
    {
     "name": "stdout",
     "output_type": "stream",
     "text": [
      "Copied 40 files\n"
     ]
    }
   ],
   "source": [
    "count = 0\n",
    "for i in range(153, 1000):\n",
    "    image_name  = category + '_' + str(i+1) + '.jpg'\n",
    "    source_file = source_dir + category + '/' + image_name\n",
    "    target_file = target_dir_test + category + '/' + image_name\n",
    "    try:\n",
    "        shutil.copy(source_file, target_file)\n",
    "        count += 1\n",
    "    except:\n",
    "        print(f'Didnt find the file {source_file}')\n",
    "        \n",
    "    if count==40:\n",
    "        print(f'Copied {count} files')\n",
    "        break"
   ]
  },
  {
   "cell_type": "code",
   "execution_count": null,
   "metadata": {},
   "outputs": [],
   "source": []
  }
 ],
 "metadata": {
  "kernelspec": {
   "display_name": "Python 3 (milamoth_ai)",
   "language": "python",
   "name": "milamoth_ai"
  },
  "language_info": {
   "codemirror_mode": {
    "name": "ipython",
    "version": 3
   },
   "file_extension": ".py",
   "mimetype": "text/x-python",
   "name": "python",
   "nbconvert_exporter": "python",
   "pygments_lexer": "ipython3",
   "version": "3.9.13"
  }
 },
 "nbformat": 4,
 "nbformat_minor": 4
}
