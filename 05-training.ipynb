{
 "cells": [
  {
   "cell_type": "code",
   "execution_count": null,
   "metadata": {},
   "outputs": [],
   "source": [
    "\"\"\"\n",
    "Authors      : Aditya Jain and Safwan Jamal\n",
    "Date started : November 16, 2022\n",
    "About        : Convex Optimization project; training script\n",
    "\"\"\"\n",
    "\n",
    "import torch\n",
    "import torchvision\n",
    "import torchvision.transforms as transforms\n",
    "from torch.utils.data import Dataset, DataLoader\n",
    "\n",
    "from cifardataset import CIFARDataset"
   ]
  },
  {
   "cell_type": "markdown",
   "metadata": {},
   "source": [
    "#### Loading Model"
   ]
  },
  {
   "cell_type": "markdown",
   "metadata": {},
   "source": [
    "#### Loading Data"
   ]
  },
  {
   "cell_type": "code",
   "execution_count": null,
   "metadata": {},
   "outputs": [],
   "source": [
    "train_set      = './image_list_cifar/train_full.csv'\n",
    "num_epochs     = 1"
   ]
  },
  {
   "cell_type": "code",
   "execution_count": null,
   "metadata": {},
   "outputs": [],
   "source": [
    "transform = transforms.Compose(\n",
    "    [transforms.ToTensor()])\n",
    "batch_size     = 32\n",
    "class_list     = ['airplane', 'automobile', 'bird', 'cat', 'deer', \n",
    "                  'dog', 'frog', 'horse', 'ship', 'truck']\n",
    "train_root_dir = './cifar-10-images/train/'\n",
    "test_root_dir  = './cifar-10-images/test/'\n",
    "test_set       = './image_list_cifar/test.csv'\n",
    "\n",
    "train_data       = CIFARDataset(train_root_dir, train_set, class_list, transform)\n",
    "train_dataloader = DataLoader(train_data,batch_size=batch_size, shuffle=True, num_workers=2)\n",
    "\n",
    "test_data        = CIFARDataset(test_root_dir, test_set, class_list, transform)\n",
    "test_dataloader  = DataLoader(test_data,batch_size=batch_size, shuffle=True, num_workers=2)"
   ]
  },
  {
   "cell_type": "markdown",
   "metadata": {},
   "source": [
    "#### Training"
   ]
  },
  {
   "cell_type": "code",
   "execution_count": null,
   "metadata": {},
   "outputs": [],
   "source": [
    "# Get cpu or gpu device for training.\n",
    "device = \"cuda\" if torch.cuda.is_available() else \"cpu\"\n",
    "print(device)\n",
    "\n",
    "for epoch in range(num_epochs): \n",
    "    # Model Training\n",
    "    model.train()\n",
    "    for image_batch, label_batch in train_dataloader:    \n",
    "        image_batch, label_batch = image_batch.to(device), label_batch.to(device)\n",
    "        pass\n",
    "    \n",
    "    # Model Evaluation\n",
    "    model.eval()\n",
    "    for image_batch, label_batch in test_dataloader:    \n",
    "        image_batch, label_batch = image_batch.to(device), label_batch.to(device)\n",
    "        pass\n"
   ]
  },
  {
   "cell_type": "code",
   "execution_count": null,
   "metadata": {},
   "outputs": [],
   "source": []
  }
 ],
 "metadata": {
  "kernelspec": {
   "display_name": "Python 3 (milamoth_ai)",
   "language": "python",
   "name": "milamoth_ai"
  },
  "language_info": {
   "codemirror_mode": {
    "name": "ipython",
    "version": 3
   },
   "file_extension": ".py",
   "mimetype": "text/x-python",
   "name": "python",
   "nbconvert_exporter": "python",
   "pygments_lexer": "ipython3",
   "version": "3.9.13"
  }
 },
 "nbformat": 4,
 "nbformat_minor": 4
}
