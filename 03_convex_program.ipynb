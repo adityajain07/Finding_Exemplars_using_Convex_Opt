{
  "cells": [
    {
      "cell_type": "code",
      "execution_count": 27,
      "metadata": {
        "id": "U1e2ZXJSgGYZ"
      },
      "outputs": [],
      "source": [
        "\"\"\"\n",
        "Authors      : Aditya Jain and Safwan Jamal\n",
        "Date started : November 8, 2022\n",
        "About        : Convex Optimization project; code for solving convex opt problem\n",
        "\"\"\"\n",
        "\n",
        "import os\n",
        "import glob\n",
        "import numpy as np\n",
        "import pickle\n",
        "import cvxpy as cp\n",
        "import seaborn as sns"
      ]
    },
    {
      "cell_type": "markdown",
      "metadata": {
        "id": "k-2bsCXogGYd"
      },
      "source": [
        "#### Reading dissimilarity data data"
      ]
    },
    {
      "cell_type": "code",
      "execution_count": 28,
      "metadata": {
        "id": "RMKzOnG9gGYi"
      },
      "outputs": [],
      "source": [
        "filename = open('cat_dissimilarity_matrix_4x4.pickle', 'rb')\n",
        "D        = pickle.load(filename)\n",
        "n        = len(D)"
      ]
    },
    {
      "cell_type": "markdown",
      "metadata": {
        "id": "coFWGJL9gGYi"
      },
      "source": [
        "#### Optimization program"
      ]
    },
    {
      "cell_type": "code",
      "execution_count": 29,
      "metadata": {
        "colab": {
          "base_uri": "https://localhost:8080/"
        },
        "id": "aiqJx-3tgGYk",
        "outputId": "f6e7e614-cd68-43d4-fe7a-00a6b2a73e0e"
      },
      "outputs": [
        {
          "output_type": "stream",
          "name": "stdout",
          "text": [
            "[[0.         0.85466998 1.         0.87144546]\n",
            " [0.85466998 0.         0.98177628 0.73776459]\n",
            " [1.         0.98177628 0.         0.84008227]\n",
            " [0.87144546 0.73776459 0.84008227 0.        ]]\n",
            "Current lambda is 9.737191877056718\n",
            "Current lambda is -21.06824824604567\n",
            "Current lambda is 5.628413366438052\n",
            "Current lambda is -7.91188032526578\n",
            "Current lambda is 8.877400822707664\n",
            "Current lambda is 3.9926979551787367\n",
            "Maximum lambda is 9.737191877056718\n"
          ]
        }
      ],
      "source": [
        "print(D)\n",
        "lambda_max = 0\n",
        "for i in range(n):\n",
        "  for j in range(i+1, n):\n",
        "      lambda_cur = (np.sqrt(n)/2 ) * ((np.linalg.norm(D[i, :] - D[j, :])**2)/np.sum((D[i, :] - D[j, :])))\n",
        "      print(f'Current lambda is {lambda_cur}')\n",
        "\n",
        "      if lambda_cur>lambda_max:\n",
        "        lambda_max = lambda_cur\n",
        "\n",
        "print(f'Maximum lambda is {lambda_max}')"
      ]
    },
    {
      "cell_type": "code",
      "execution_count": 30,
      "metadata": {
        "colab": {
          "base_uri": "https://localhost:8080/"
        },
        "id": "PNl_D2r0gGYj",
        "outputId": "d150ccf4-b138-49d9-c014-9dcf3102ca36"
      },
      "outputs": [
        {
          "output_type": "execute_result",
          "data": {
            "text/plain": [
              "3.817564494160292"
            ]
          },
          "metadata": {},
          "execution_count": 30
        }
      ],
      "source": [
        "# variable definitions\n",
        "Z        = cp.Variable((n, n), symmetric=True)\n",
        "lambda_t = 0.1*9.73\n",
        "\n",
        "\n",
        "# objective function\n",
        "cost_encoding = cp.trace(D.T@Z)        # cost of encoding all data points using representatives\n",
        "cost_no_repr  = 0                      # cost associated with no. of representatives\n",
        "for i in range(n):\n",
        "    cost_no_repr += cp.norm2(Z[i, :])\n",
        "cost_no_repr = lambda_t*cost_no_repr\n",
        "objective    = cp.Minimize(cost_encoding + cost_no_repr)\n",
        "\n",
        "# constraints\n",
        "# probab. should be >=0\n",
        "# probabilities should sum to one for every column\n",
        "constraints = [Z>=0, np.ones((1,n))@Z == np.ones((1,n))]\n",
        "\n",
        "# optimization program\n",
        "prob = cp.Problem(objective, constraints)\n",
        "prob.solve()"
      ]
    },
    {
      "cell_type": "code",
      "execution_count": 31,
      "metadata": {
        "colab": {
          "base_uri": "https://localhost:8080/",
          "height": 283
        },
        "id": "9cm65mmAgGYk",
        "outputId": "a9a05883-9585-48b0-d077-64675b1ec1d8"
      },
      "outputs": [
        {
          "output_type": "execute_result",
          "data": {
            "text/plain": [
              "<matplotlib.axes._subplots.AxesSubplot at 0x7fe7e844b0d0>"
            ]
          },
          "metadata": {},
          "execution_count": 31
        },
        {
          "output_type": "display_data",
          "data": {
            "text/plain": [
              "<Figure size 432x288 with 2 Axes>"
            ],
            "image/png": "[encoded data removed]"
          },
          "metadata": {
            "needs_background": "light"
          }
        }
      ],
      "source": [
        "sns.heatmap(Z.value)"
      ]
    },
    {
      "cell_type": "code",
      "execution_count": 32,
      "metadata": {
        "colab": {
          "base_uri": "https://localhost:8080/"
        },
        "id": "jRPSuS6ngGYk",
        "outputId": "0c6b04f5-0fe7-482d-d8f3-b15aea947e01"
      },
      "outputs": [
        {
          "output_type": "execute_result",
          "data": {
            "text/plain": [
              "array([[8.50859378e-01, 8.52958588e-02, 1.08570283e-09, 6.38447619e-02],\n",
              "       [8.52958588e-02, 7.58298791e-01, 1.56068294e-09, 1.56405348e-01],\n",
              "       [1.08570283e-09, 1.56068294e-09, 9.07517009e-01, 9.24829879e-02],\n",
              "       [6.38447619e-02, 1.56405348e-01, 9.24829879e-02, 6.87266902e-01]])"
            ]
          },
          "metadata": {},
          "execution_count": 32
        }
      ],
      "source": [
        "Z.value"
      ]
    },
    {
      "cell_type": "code",
      "source": [],
      "metadata": {
        "id": "IWt9nk1T0GGc"
      },
      "execution_count": 32,
      "outputs": []
    }
  ],
  "metadata": {
    "kernelspec": {
      "display_name": "Python 3 (milamoth_ai)",
      "language": "python",
      "name": "milamoth_ai"
    },
    "language_info": {
      "codemirror_mode": {
        "name": "ipython",
        "version": 3
      },
      "file_extension": ".py",
      "mimetype": "text/x-python",
      "name": "python",
      "nbconvert_exporter": "python",
      "pygments_lexer": "ipython3",
      "version": "3.9.13"
    },
    "colab": {
      "provenance": [],
      "collapsed_sections": []
    }
  },
  "nbformat": 4,
  "nbformat_minor": 0
}